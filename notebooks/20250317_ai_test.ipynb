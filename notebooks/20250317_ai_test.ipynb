{
 "cells": [
  {
   "cell_type": "markdown",
   "metadata": {},
   "source": [
    "# gemini API による応答モデルのテスト\n",
    "\n",
    "- https://aistudio.google.com/apikey"
   ]
  },
  {
   "cell_type": "code",
   "execution_count": 1,
   "metadata": {},
   "outputs": [
    {
     "name": "stderr",
     "output_type": "stream",
     "text": [
      "c:\\Users\\yutou\\Desktop\\work\\18_LLM\\venv\\Lib\\site-packages\\tqdm\\auto.py:21: TqdmWarning: IProgress not found. Please update jupyter and ipywidgets. See https://ipywidgets.readthedocs.io/en/stable/user_install.html\n",
      "  from .autonotebook import tqdm as notebook_tqdm\n"
     ]
    }
   ],
   "source": [
    "import google.generativeai as genai\n",
    "import os\n",
    "from tqdm import tqdm\n",
    "from dotenv import load_dotenv\n",
    "\n",
    "load_dotenv()\n",
    "GOOGLE_API_KEY=os.getenv(\"GEMINI_API_KEY\")\n",
    "\n",
    "genai.configure(api_key=GOOGLE_API_KEY)\n",
    "model = genai.GenerativeModel(\"gemini-1.5-flash\")"
   ]
  },
  {
   "cell_type": "code",
   "execution_count": null,
   "metadata": {},
   "outputs": [
    {
     "name": "stdout",
     "output_type": "stream",
     "text": [
      "ほう、賢者の石のことか？  若いもんには、ちょっと早すぎる話かもしれんがな…\n",
      "\n",
      "まぁ、簡単に言うとだな、錬金術師がずーっと探し求めてきた、夢の石ってわけだ。  なんでも、不老不死になれるとか、卑金属を金に変えられるとか、そんなあり得ないような力を持ってるんだとさ。  \n",
      "\n",
      "古くからの書物には、色んな作り方が書いてあるんだが、どれもこれも、まるで暗号みたいなもんでな。  「竜の涙を混ぜて…」とか、「満月の夜に…」とか、さっぱり分からんぞ。  実際、誰一人として、本当に作ったって証拠はないんだ。  \n",
      "\n",
      "もしかしたらな、単なる伝説かもしれんし、あるいは、現代科学では解明できないような、特別な何かかもしれん。  いずれにしても、探し求めるのは自由だが、騙されないように気を付けろよ。  金儲けの道具に利用しようとする輩もいるからな。\n",
      "\n",
      "ワシは長年、色んな文献を漁ってきたが、結局のところ、賢者の石の真実は分からんかった。  老いては子に聞けって言うけどな、若いおめぇらには、もっと賢い人がいるかもしれんぞ。  もっと勉強しろ！  わかったか！\n",
      "\n"
     ]
    }
   ],
   "source": [
    "PROMPT_TEMPLATE = \"\"\"\n",
    "あなたは親しみやすいAIアシスタントです。以下のルールを守って回答してください。\n",
    "- あなたの質問にはじじいの口調で答えること\n",
    "質問: {question}\n",
    "\"\"\"\n",
    "\n",
    "def chat_with_gemini(user_input):\n",
    "    prompt = PROMPT_TEMPLATE.format(question=user_input)\n",
    "    response = model.generate_content(prompt)\n",
    "    return response.text\n",
    "\n",
    "print(chat_with_gemini(\"賢者の石について教えてください\"))"
   ]
  },
  {
   "cell_type": "markdown",
   "metadata": {},
   "source": [
    "## Embeddings"
   ]
  },
  {
   "cell_type": "code",
   "execution_count": null,
   "metadata": {},
   "outputs": [
    {
     "name": "stdout",
     "output_type": "stream",
     "text": [
      "memory=ConversationBufferMemory(chat_memory=InMemoryChatMessageHistory(messages=[]), return_messages=True, memory_key='chat_history') verbose=False combine_docs_chain=StuffDocumentsChain(verbose=False, llm_chain=LLMChain(verbose=False, prompt=ChatPromptTemplate(input_variables=['context', 'question'], input_types={}, partial_variables={}, messages=[SystemMessagePromptTemplate(prompt=PromptTemplate(input_variables=['context'], input_types={}, partial_variables={}, template=\"Use the following pieces of context to answer the user's question. \\nIf you don't know the answer, just say that you don't know, don't try to make up an answer.\\n----------------\\n{context}\"), additional_kwargs={}), HumanMessagePromptTemplate(prompt=PromptTemplate(input_variables=['question'], input_types={}, partial_variables={}, template='{question}'), additional_kwargs={})]), llm=ChatGoogleGenerativeAI(model='models/gemini-1.5-flash', google_api_key=SecretStr('**********'), temperature=0.5, client=<google.ai.generativelanguage_v1beta.services.generative_service.client.GenerativeServiceClient object at 0x000002B862A54350>, default_metadata=()), output_parser=StrOutputParser(), llm_kwargs={}), document_prompt=PromptTemplate(input_variables=['page_content'], input_types={}, partial_variables={}, template='{page_content}'), document_variable_name='context') question_generator=LLMChain(verbose=False, prompt=PromptTemplate(input_variables=['chat_history', 'question'], input_types={}, partial_variables={}, template='Given the following conversation and a follow up question, rephrase the follow up question to be a standalone question, in its original language.\\n\\nChat History:\\n{chat_history}\\nFollow Up Input: {question}\\nStandalone question:'), llm=ChatGoogleGenerativeAI(model='models/gemini-1.5-flash', google_api_key=SecretStr('**********'), temperature=0.5, client=<google.ai.generativelanguage_v1beta.services.generative_service.client.GenerativeServiceClient object at 0x000002B862A54350>, default_metadata=()), output_parser=StrOutputParser(), llm_kwargs={}) retriever=VectorStoreRetriever(tags=['FAISS', 'GoogleGenerativeAIEmbeddings'], vectorstore=<langchain_community.vectorstores.faiss.FAISS object at 0x000002B862AE3D90>, search_kwargs={})\n",
      "AI（人工知能）は、機械が人間のように学習・判断する技術のことです。\n"
     ]
    }
   ],
   "source": [
    "import google.generativeai as genai\n",
    "import os\n",
    "from langchain_google_genai.embeddings import GoogleGenerativeAIEmbeddings\n",
    "from langchain_google_genai.chat_models import ChatGoogleGenerativeAI\n",
    "from langchain.vectorstores import FAISS\n",
    "from langchain.schema import Document\n",
    "from langchain.chains import ConversationalRetrievalChain\n",
    "from langchain.memory import ConversationBufferMemory\n",
    "\n",
    "# APIキー設定\n",
    "os.environ[\"GOOGLE_API_KEY\"] = GOOGLE_API_KEY\n",
    "\n",
    "# 1.エンベディングモデル\n",
    "embedding_model = GoogleGenerativeAIEmbeddings(model=\"models/embedding-001\")\n",
    "\n",
    "# 2.知識ベース\n",
    "texts = [\n",
    "    \"AI（人工知能）は、機械が人間のように学習・判断する技術のことです。\",\n",
    "    \"機械学習は、データからパターンを学び、予測や判断を行う技術です。\",\n",
    "    \"LLM（大規模言語モデル）は、多量のデータを使って訓練された自然言語処理モデルです。\",\n",
    "    \"GeminiはGoogleが開発した大規模言語モデル（LLM）で、マルチモーダルなタスクに対応可能です。\",\n",
    "]\n",
    "\n",
    "metadata = [\n",
    "    {\"source\": \"AIの基本\"},\n",
    "    {\"source\": \"機械学習\"},\n",
    "    {\"source\": \"LLM\"},\n",
    "    {\"source\": \"Gemini\"},\n",
    "]\n",
    "\n",
    "documents = [Document(page_content=text, metadata=meta) for text, meta in zip(texts, metadata)]\n",
    "\n",
    "# 3.FAISSを使ってベクトル検索データベースを作成\n",
    "vectorstore = FAISS.from_texts(texts, embedding=embedding_model, metadatas=metadata)\n",
    "\n",
    "# 4.Geminiのチャットモデルを設定\n",
    "llm = ChatGoogleGenerativeAI(model=\"gemini-1.5-flash\", temperature=0.5)\n",
    "\n",
    "# 5.会話履歴を保持するためのメモリ設定\n",
    "memory = ConversationBufferMemory(memory_key=\"chat_history\", return_messages=True)\n",
    "\n",
    "# 6.検索機能付きチャットチェーンを構築\n",
    "qa_chain = ConversationalRetrievalChain.from_llm(\n",
    "    llm=llm, retriever=vectorstore.as_retriever(), memory=memory\n",
    ")\n",
    "\n",
    "# 7.関数を作成\n",
    "def chat_with_gemini(user_input):\n",
    "    response = qa_chain.invoke({\"question\": user_input})\n",
    "    return response[\"answer\"]\n",
    "\n",
    "# 8.実行\n",
    "print(chat_with_gemini(\"AIとは何ですか？\"))"
   ]
  },
  {
   "cell_type": "code",
   "execution_count": null,
   "metadata": {},
   "outputs": [
    {
     "name": "stdout",
     "output_type": "stream",
     "text": [
      "\n",
      "🤖 Gemini の回答:\n"
     ]
    },
    {
     "name": "stderr",
     "output_type": "stream",
     "text": [
      "C:\\Users\\yutou\\AppData\\Local\\Temp\\ipykernel_24712\\417428091.py:50: LangChainDeprecationWarning: The method `BaseRetriever.get_relevant_documents` was deprecated in langchain-core 0.1.46 and will be removed in 1.0. Use :meth:`~invoke` instead.\n",
      "  relevant_docs = vectorstore.as_retriever().get_relevant_documents(user_input)\n"
     ]
    },
    {
     "name": "stdout",
     "output_type": "stream",
     "text": [
      "\n",
      "🔍 関連するドキュメント（エンベディング検索結果）：\n",
      "1. AI（人工知能）は、機械が人間のように学習・判断する技術のことです。  [Source: AIの基本]\n",
      "2. 機械学習は、データからパターンを学び、予測や判断を行う技術です。  [Source: 機械学習]\n",
      "3. LLM（大規模言語モデル）は、多量のデータを使って訓練された自然言語処理モデルです。  [Source: LLM]\n",
      "4. GeminiはGoogleが開発した大規模言語モデル（LLM）で、マルチモーダルなタスクに対応可能です。  [Source: Gemini]\n",
      "AI（人工知能）は、機械が人間のように学習・判断する技術のことです。\n"
     ]
    }
   ],
   "source": [
    "import google.generativeai as genai\n",
    "import os\n",
    "from langchain_google_genai.embeddings import GoogleGenerativeAIEmbeddings\n",
    "from langchain_google_genai.chat_models import ChatGoogleGenerativeAI\n",
    "from langchain.vectorstores import FAISS\n",
    "from langchain.schema import Document\n",
    "from langchain.chains import ConversationalRetrievalChain\n",
    "from langchain.memory import ConversationBufferMemory\n",
    "\n",
    "# APIキー設定\n",
    "os.environ[\"GOOGLE_API_KEY\"] = GOOGLE_API_KEY\n",
    "\n",
    "# 1. エンベディングモデル\n",
    "embedding_model = GoogleGenerativeAIEmbeddings(model=\"models/embedding-001\")\n",
    "\n",
    "# 2. 知識ベース\n",
    "texts = [\n",
    "    \"AI（人工知能）は、機械が人間のように学習・判断する技術のことです。\",\n",
    "    \"機械学習は、データからパターンを学び、予測や判断を行う技術です。\",\n",
    "    \"LLM（大規模言語モデル）は、多量のデータを使って訓練された自然言語処理モデルです。\",\n",
    "    \"GeminiはGoogleが開発した大規模言語モデル（LLM）で、マルチモーダルなタスクに対応可能です。\",\n",
    "]\n",
    "\n",
    "metadata = [\n",
    "    {\"source\": \"AIの基本\"},\n",
    "    {\"source\": \"機械学習\"},\n",
    "    {\"source\": \"LLM\"},\n",
    "    {\"source\": \"Gemini\"},\n",
    "]\n",
    "\n",
    "documents = [Document(page_content=text, metadata=meta) for text, meta in zip(texts, metadata)]\n",
    "\n",
    "# 3. FAISS を使ってベクトル検索データベースを作成\n",
    "vectorstore = FAISS.from_texts(texts, embedding=embedding_model, metadatas=metadata)\n",
    "\n",
    "# 4. Gemini のチャットモデルを設定\n",
    "llm = ChatGoogleGenerativeAI(model=\"gemini-1.5-flash\", temperature=0.5)\n",
    "\n",
    "# 5. 会話履歴を保持するためのメモリ設定\n",
    "memory = ConversationBufferMemory(memory_key=\"chat_history\", return_messages=True)\n",
    "\n",
    "# 6. 検索機能付きチャットチェーンを構築\n",
    "qa_chain = ConversationalRetrievalChain.from_llm(\n",
    "    llm=llm, retriever=vectorstore.as_retriever(), memory=memory\n",
    ")\n",
    "\n",
    "# 7. 関数を作成\n",
    "def chat_with_gemini(user_input):\n",
    "    # 🔹 **関連ドキュメント（エンベディング検索結果）を取得**\n",
    "    relevant_docs = vectorstore.as_retriever().get_relevant_documents(user_input)\n",
    "\n",
    "    # 🔹 **取得されたテキストを表示**\n",
    "    print(\"\\n🔍 関連するドキュメント（エンベディング検索結果）：\")\n",
    "    for idx, doc in enumerate(relevant_docs):\n",
    "        print(f\"{idx+1}. {doc.page_content}  [Source: {doc.metadata.get('source', '不明')}]\")\n",
    "\n",
    "    # 🔹 **Gemini に質問を送信**\n",
    "    response = qa_chain.invoke({\"question\": user_input})\n",
    "\n",
    "    return response[\"answer\"]\n",
    "\n",
    "# 8. 実行\n",
    "print(\"\\n🤖 Gemini の回答:\")\n",
    "print(chat_with_gemini(\"AIとは何ですか？\"))"
   ]
  },
  {
   "cell_type": "code",
   "execution_count": null,
   "metadata": {},
   "outputs": [],
   "source": []
  }
 ],
 "metadata": {
  "kernelspec": {
   "display_name": "venv",
   "language": "python",
   "name": "python3"
  },
  "language_info": {
   "codemirror_mode": {
    "name": "ipython",
    "version": 3
   },
   "file_extension": ".py",
   "mimetype": "text/x-python",
   "name": "python",
   "nbconvert_exporter": "python",
   "pygments_lexer": "ipython3",
   "version": "3.11.9"
  }
 },
 "nbformat": 4,
 "nbformat_minor": 2
}
